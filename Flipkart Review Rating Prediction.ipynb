{
 "cells": [
  {
   "cell_type": "markdown",
   "id": "316a9bb0",
   "metadata": {},
   "source": [
    "# <b>Flipkart Review Rating Prediction"
   ]
  },
  {
   "cell_type": "markdown",
   "id": "65f36efe",
   "metadata": {},
   "source": [
    "### Objective:\n",
    "\n",
    "- To develop a rating prediction model on the basis of customer reviews for flipkart."
   ]
  },
  {
   "cell_type": "markdown",
   "id": "f357f2eb",
   "metadata": {},
   "source": [
    "<b> Importing Required Libaries"
   ]
  },
  {
   "cell_type": "code",
   "execution_count": 1,
   "id": "4afd8d0d",
   "metadata": {},
   "outputs": [],
   "source": [
    "import numpy as np\n",
    "import pandas as pd \n",
    "import re\n",
    "import json\n",
    "import random\n",
    "\n",
    "from wordcloud import WordCloud, STOPWORDS \n",
    "stopwords = set(STOPWORDS) \n",
    "import matplotlib.pyplot as plt\n",
    "import seaborn as sns\n",
    "\n",
    "\n",
    "from sklearn.feature_extraction.text import CountVectorizer\n",
    "from sklearn.feature_extraction.text import TfidfTransformer\n",
    "from sklearn.feature_extraction.text import TfidfVectorizer"
   ]
  },
  {
   "cell_type": "markdown",
   "id": "95f63405",
   "metadata": {},
   "source": [
    "<b> Loading Dataset"
   ]
  },
  {
   "cell_type": "code",
   "execution_count": 2,
   "id": "6ca0c136",
   "metadata": {},
   "outputs": [],
   "source": [
    "df = pd.read_csv(\"C:\\\\Users\\\\Nehal\\\\Downloads\\\\data.csv\")"
   ]
  },
  {
   "cell_type": "markdown",
   "id": "144f20b8",
   "metadata": {},
   "source": [
    "<b> Exploring Dataset"
   ]
  },
  {
   "cell_type": "code",
   "execution_count": 3,
   "id": "f9fe90bc",
   "metadata": {},
   "outputs": [
    {
     "data": {
      "text/html": [
       "<div>\n",
       "<style scoped>\n",
       "    .dataframe tbody tr th:only-of-type {\n",
       "        vertical-align: middle;\n",
       "    }\n",
       "\n",
       "    .dataframe tbody tr th {\n",
       "        vertical-align: top;\n",
       "    }\n",
       "\n",
       "    .dataframe thead th {\n",
       "        text-align: right;\n",
       "    }\n",
       "</style>\n",
       "<table border=\"1\" class=\"dataframe\">\n",
       "  <thead>\n",
       "    <tr style=\"text-align: right;\">\n",
       "      <th></th>\n",
       "      <th>review</th>\n",
       "      <th>rating</th>\n",
       "    </tr>\n",
       "  </thead>\n",
       "  <tbody>\n",
       "    <tr>\n",
       "      <th>0</th>\n",
       "      <td>It was nice produt. I like it's design a lot. ...</td>\n",
       "      <td>5</td>\n",
       "    </tr>\n",
       "    <tr>\n",
       "      <th>1</th>\n",
       "      <td>awesome sound....very pretty to see this nd th...</td>\n",
       "      <td>5</td>\n",
       "    </tr>\n",
       "    <tr>\n",
       "      <th>2</th>\n",
       "      <td>awesome sound quality. pros 7-8 hrs of battery...</td>\n",
       "      <td>4</td>\n",
       "    </tr>\n",
       "    <tr>\n",
       "      <th>3</th>\n",
       "      <td>I think it is such a good product not only as ...</td>\n",
       "      <td>5</td>\n",
       "    </tr>\n",
       "    <tr>\n",
       "      <th>4</th>\n",
       "      <td>awesome bass sound quality very good bettary l...</td>\n",
       "      <td>5</td>\n",
       "    </tr>\n",
       "  </tbody>\n",
       "</table>\n",
       "</div>"
      ],
      "text/plain": [
       "                                              review  rating\n",
       "0  It was nice produt. I like it's design a lot. ...       5\n",
       "1  awesome sound....very pretty to see this nd th...       5\n",
       "2  awesome sound quality. pros 7-8 hrs of battery...       4\n",
       "3  I think it is such a good product not only as ...       5\n",
       "4  awesome bass sound quality very good bettary l...       5"
      ]
     },
     "execution_count": 3,
     "metadata": {},
     "output_type": "execute_result"
    }
   ],
   "source": [
    "df.head(5)"
   ]
  },
  {
   "cell_type": "code",
   "execution_count": 4,
   "id": "152d44b5",
   "metadata": {},
   "outputs": [
    {
     "data": {
      "text/plain": [
       "(9976, 2)"
      ]
     },
     "execution_count": 4,
     "metadata": {},
     "output_type": "execute_result"
    }
   ],
   "source": [
    "df.shape"
   ]
  },
  {
   "cell_type": "code",
   "execution_count": 5,
   "id": "7a965c70",
   "metadata": {},
   "outputs": [
    {
     "data": {
      "text/plain": [
       "review    object\n",
       "rating     int64\n",
       "dtype: object"
      ]
     },
     "execution_count": 5,
     "metadata": {},
     "output_type": "execute_result"
    }
   ],
   "source": [
    "df.dtypes"
   ]
  },
  {
   "cell_type": "code",
   "execution_count": 6,
   "id": "218e8356",
   "metadata": {},
   "outputs": [
    {
     "data": {
      "text/plain": [
       "7694"
      ]
     },
     "execution_count": 6,
     "metadata": {},
     "output_type": "execute_result"
    }
   ],
   "source": [
    "df['review'].nunique()"
   ]
  },
  {
   "cell_type": "code",
   "execution_count": 7,
   "id": "6cb13070",
   "metadata": {},
   "outputs": [
    {
     "data": {
      "text/plain": [
       "review    0\n",
       "rating    0\n",
       "dtype: int64"
      ]
     },
     "execution_count": 7,
     "metadata": {},
     "output_type": "execute_result"
    }
   ],
   "source": [
    "df.isnull().sum()"
   ]
  },
  {
   "cell_type": "markdown",
   "id": "26a2eb99",
   "metadata": {},
   "source": [
    "<b> Exploratory Data Analysis and Visualization"
   ]
  },
  {
   "cell_type": "code",
   "execution_count": 8,
   "id": "8fe495af",
   "metadata": {},
   "outputs": [
    {
     "data": {
      "text/plain": [
       "<AxesSubplot:xlabel='rating', ylabel='Count'>"
      ]
     },
     "execution_count": 8,
     "metadata": {},
     "output_type": "execute_result"
    },
    {
     "data": {
      "image/png": "[encoded data removed]",
      "text/plain": [
       "<Figure size 432x288 with 1 Axes>"
      ]
     },
     "metadata": {
      "needs_background": "light"
     },
     "output_type": "display_data"
    }
   ],
   "source": [
    "# Distribution of Rating column\n",
    "sns.histplot(df.rating, bins = 15)"
   ]
  },
  {
   "cell_type": "code",
   "execution_count": 9,
   "id": "f6128cea",
   "metadata": {},
   "outputs": [
    {
     "data": {
      "text/plain": [
       "<AxesSubplot:ylabel='rating'>"
      ]
     },
     "execution_count": 9,
     "metadata": {},
     "output_type": "execute_result"
    },
    {
     "data": {
      "image/png": "[encoded data removed]",
      "text/plain": [
       "<Figure size 432x288 with 1 Axes>"
      ]
     },
     "metadata": {},
     "output_type": "display_data"
    }
   ],
   "source": [
    "(df['rating'].value_counts()).plot(kind = \"pie\", autopct='%1.1f')"
   ]
  },
  {
   "cell_type": "code",
   "execution_count": 10,
   "id": "03355fa2",
   "metadata": {},
   "outputs": [
    {
     "name": "stderr",
     "output_type": "stream",
     "text": [
      "C:\\ProgramData\\Anaconda3\\lib\\site-packages\\seaborn\\axisgrid.py:316: UserWarning: The `size` parameter has been renamed to `height`; please update your code.\n",
      "  warnings.warn(msg, UserWarning)\n",
      "C:\\ProgramData\\Anaconda3\\lib\\site-packages\\seaborn\\distributions.py:2557: FutureWarning: `distplot` is a deprecated function and will be removed in a future version. Please adapt your code to use either `displot` (a figure-level function with similar flexibility) or `histplot` (an axes-level function for histograms).\n",
      "  warnings.warn(msg, FutureWarning)\n"
     ]
    },
    {
     "data": {
      "image/png": "[encoded data removed]",
      "text/plain": [
       "<Figure size 368x360 with 1 Axes>"
      ]
     },
     "metadata": {
      "needs_background": "light"
     },
     "output_type": "display_data"
    }
   ],
   "source": [
    "# histogram \n",
    "sns.FacetGrid(df, size=5) \\\n",
    "   .map(sns.distplot, \"rating\") \\\n",
    "   .add_legend();\n",
    "plt.show();"
   ]
  },
  {
   "cell_type": "markdown",
   "id": "866369d1",
   "metadata": {},
   "source": [
    "Majority ratings lies between 4 and 5 getting rough idea with histogram"
   ]
  },
  {
   "cell_type": "markdown",
   "id": "54c93d4d",
   "metadata": {},
   "source": [
    "### Text preprocessing¶\n"
   ]
  },
  {
   "cell_type": "code",
   "execution_count": 11,
   "id": "bff201b3",
   "metadata": {},
   "outputs": [],
   "source": [
    "import re\n",
    "# changing words which contain short forms like change won't to will not and etc\n",
    "def decontracted(phrase):\n",
    "    \n",
    "    phrase = re.sub(r\"won't\", \"will not\", phrase)\n",
    "    phrase = re.sub(r\"can\\'t\", \"can not\", phrase)\n",
    "    \n",
    "    phrase = re.sub(r\"n\\'t\", \" not\", phrase)\n",
    "    phrase = re.sub(r\"\\'re\", \" are\", phrase)\n",
    "    phrase = re.sub(r\"\\'s\", \" is\", phrase)\n",
    "    phrase = re.sub(r\"\\'d\", \" would\", phrase)\n",
    "    phrase = re.sub(r\"\\'ll\", \" will\", phrase)\n",
    "    phrase = re.sub(r\"\\'t\", \" not\", phrase)\n",
    "    phrase = re.sub(r\"\\'ve\", \" have\", phrase)\n",
    "    phrase = re.sub(r\"\\'m\", \" am\", phrase)\n",
    "    return phrase\n"
   ]
  },
  {
   "cell_type": "code",
   "execution_count": 12,
   "id": "95ee036f",
   "metadata": {},
   "outputs": [],
   "source": [
    "stopwords= ['i', 'me', 'my', 'myself', 'we', 'our', 'ours', 'ourselves', 'you', \"you're\", \"you've\",\\\n",
    "            \"you'll\", \"you'd\", 'your', 'yours', 'yourself', 'yourselves', 'he', 'him', 'his', 'himself', \\\n",
    "            'she', \"she's\", 'her', 'hers', 'herself', 'it', \"it's\", 'its', 'itself', 'they', 'them', 'their',\\\n",
    "            'theirs', 'themselves', 'what', 'which', 'who', 'whom', 'this', 'that', \"that'll\", 'these', 'those', \\\n",
    "            'am', 'is', 'are', 'was', 'were', 'be', 'been', 'being', 'have', 'has', 'had', 'having', 'do', 'does', \\\n",
    "            'did', 'doing', 'a', 'an', 'the', 'and', 'but', 'if', 'or', 'because', 'as', 'until', 'while', 'of', \\\n",
    "            'at', 'by', 'for', 'with', 'about', 'against', 'between', 'into', 'through', 'during', 'before', 'after',\\\n",
    "            'above', 'below', 'to', 'from', 'up', 'down', 'in', 'out', 'on', 'off', 'over', 'under', 'again', 'further',\\\n",
    "            'then', 'once', 'here', 'there', 'when', 'where', 'why', 'how', 'all', 'any', 'both', 'each', 'few', 'more',\\\n",
    "            'most', 'other', 'some', 'such', 'only', 'own', 'same', 'so', 'than', 'too', 'very', \\\n",
    "            's', 't', 'can', 'will', 'just', 'don', \"don't\", 'should', \"should've\", 'now', 'd', 'll', 'm', 'o', 're', \\\n",
    "            've', 'y', 'ain', 'aren', \"aren't\", 'couldn', \"couldn't\", 'didn', \"didn't\", 'doesn', \"doesn't\", 'hadn',\\\n",
    "            \"hadn't\", 'hasn', \"hasn't\", 'haven', \"haven't\", 'isn', \"isn't\", 'ma', 'mightn', \"mightn't\", 'mustn',\\\n",
    "            \"mustn't\", 'needn', \"needn't\", 'shan', \"shan't\", 'shouldn', \"shouldn't\", 'wasn', \"wasn't\", 'weren', \"weren't\", \\\n",
    "            'won', \"won't\", 'wouldn', \"wouldn't\"]"
   ]
  },
  {
   "cell_type": "code",
   "execution_count": 13,
   "id": "dcee267d",
   "metadata": {},
   "outputs": [
    {
     "name": "stdout",
     "output_type": "stream",
     "text": [
      "0 It was nice produt. I like it's design a lot.  It's easy to carry. And.   Looked stylish.READ MORE\n",
      "1 awesome sound....very pretty to see this nd the sound quality was too good I wish to take this product loved this product 😍😍😍READ MORE\n",
      "2 awesome sound quality. pros 7-8 hrs of battery life (including 45 mins approx call time)Awesome sound output. Bass and treble are really very clear without equaliser. With equaliser, sound wary depends on the handset sound quality.Weightless to carry and in head tooMic is good, but in traffic it is not too good (3.25/5)3.5mm Option is really important to mention. Really expecting other leading brands to implement this.ConsVery tight in ears. adjusters are ok .. this ll be very tight...READ MORE\n",
      "3 I think it is such a good product not only as per the quality but also the design is quite good . I m using this product from January ... In this pandamic situation it has became the most useful and helpful . Overall the bass and the sound quality is pretty good and another thing that will give you such a sigh of relief that it will provide a wire that will help you in case of lacking charges.READ MORE\n",
      "4 awesome bass sound quality very good bettary long life  and I have a purchase Rs.999  only really grateful product don't forget to likeREAD MORE\n"
     ]
    }
   ],
   "source": [
    "# text before preprocessing\n",
    "print(0, df['review'].values[0])\n",
    "print(1, df['review'].values[1])\n",
    "print(2, df['review'].values[2])\n",
    "print(3, df['review'].values[3])\n",
    "print(4, df['review'].values[4])"
   ]
  },
  {
   "cell_type": "code",
   "execution_count": 14,
   "id": "025cdcc4",
   "metadata": {},
   "outputs": [],
   "source": [
    "# replacing // with empty space and etc if present\n",
    "from tqdm import tqdm\n",
    "def preprocess_text(text_data):\n",
    "    preprocessed_text = []\n",
    "    # tqdm is for printing the status bar\n",
    "    for sentance in tqdm(text_data):\n",
    "        sent = decontracted(sentance)\n",
    "        sent = sent.replace('\\\\r', ' ')\n",
    "        sent = sent.replace('\\\\n', ' ')\n",
    "        sent = sent.replace('\\\\\"', ' ')\n",
    "        sent = re.sub('[^A-Za-z0-9]+', ' ', sent)\n",
    "        # https://gist.github.com/sebleier/554280\n",
    "        emoji_pattern = re.compile(\"[\"\n",
    "        u\"\\U0001F600-\\U0001F64F\"  # emoticons\n",
    "        u\"\\U0001F300-\\U0001F5FF\"  # symbols & pictographs\n",
    "        u\"\\U0001F680-\\U0001F6FF\"  # transport & map symbols\n",
    "        u\"\\U0001F1E0-\\U0001F1FF\"  # flags (iOS)\n",
    "                           \"]+\", flags=re.UNICODE)\n",
    "        sent = emoji_pattern.sub(r'', sent)\n",
    "        sent = ' '.join(e for e in sent.split() if e.lower() not in stopwords)\n",
    "        preprocessed_text.append(sent.lower().strip())\n",
    "    return preprocessed_text"
   ]
  },
  {
   "cell_type": "code",
   "execution_count": 15,
   "id": "2e7bdbdb",
   "metadata": {},
   "outputs": [
    {
     "name": "stderr",
     "output_type": "stream",
     "text": [
      "100%|██████████████████████████████████████████████████████████████████████████████████████████████████████████████████████████████████████| 2/2 [00:00<00:00, 3315.66it/s]\n"
     ]
    },
    {
     "data": {
      "text/plain": [
       "['emoji caused frustration users heck supposed use emoji',\n",
       " 'heck supposed use emoji']"
      ]
     },
     "execution_count": 15,
     "metadata": {},
     "output_type": "execute_result"
    }
   ],
   "source": [
    "text = ['For some, emoji have caused frustration for users (how the heck are you supposed to use the 🙃 emoji?',\n",
    "        '(how the heck are you supposed to use the 🙃 emoji?']\n",
    "preprocess_text(text)"
   ]
  },
  {
   "cell_type": "code",
   "execution_count": 16,
   "id": "70505e64",
   "metadata": {},
   "outputs": [
    {
     "name": "stderr",
     "output_type": "stream",
     "text": [
      "100%|███████████████████████████████████████████████████████████████████████████████████████████████████████████████████████████████| 9976/9976 [00:00<00:00, 15291.61it/s]\n"
     ]
    }
   ],
   "source": [
    "preprocessed_review = preprocess_text(df['review'].values)"
   ]
  },
  {
   "cell_type": "code",
   "execution_count": 17,
   "id": "528d35b0",
   "metadata": {},
   "outputs": [
    {
     "name": "stdout",
     "output_type": "stream",
     "text": [
      "0 nice produt like design lot easy carry looked stylish read\n",
      "1 awesome sound pretty see nd sound quality good wish take product loved product read\n",
      "2 awesome sound quality pros 7 8 hrs battery life including 45 mins approx call time awesome sound output bass treble really clear without equaliser equaliser sound wary depends handset sound quality weightless carry head toomic good traffic not good 3 25 5 3 5mm option really important mention really expecting leading brands implement consvery tight ears adjusters ok tight read\n",
      "3 think good product not per quality also design quite good using product january pandamic situation became useful helpful overall bass sound quality pretty good another thing give sigh relief provide wire help case lacking charges read\n",
      "4 awesome bass sound quality good bettary long life purchase rs 999 really grateful product not forget likeread\n"
     ]
    }
   ],
   "source": [
    "# text after preprocessing\n",
    "print(0, preprocessed_review[0])\n",
    "print(1, preprocessed_review[1])\n",
    "print(2, preprocessed_review[2])\n",
    "print(3, preprocessed_review[3])\n",
    "print(4, preprocessed_review[4])"
   ]
  },
  {
   "cell_type": "markdown",
   "id": "98cb96e0",
   "metadata": {},
   "source": [
    "### Sentiment Analysis\n"
   ]
  },
  {
   "cell_type": "code",
   "execution_count": 18,
   "id": "3975f3c3",
   "metadata": {},
   "outputs": [
    {
     "name": "stderr",
     "output_type": "stream",
     "text": [
      "100%|████████████████████████████████████████████████████████████████████████████████████████████████████████████████████████████████| 9976/9976 [00:03<00:00, 2676.84it/s]\n"
     ]
    }
   ],
   "source": [
    "import nltk\n",
    "# nltk.download('vader_lexicon')\n",
    "  \n",
    "from nltk.sentiment.vader import SentimentIntensityAnalyzer\n",
    "\n",
    "sent = SentimentIntensityAnalyzer()\n",
    "neg = []\n",
    "neu = []\n",
    "pos = []\n",
    "com = []\n",
    "def update(k):\n",
    "    neg.append(k[\"neg\"])    \n",
    "    pos.append(k[\"pos\"])\n",
    "    neu.append(k[\"neu\"])\n",
    "    com.append(k[\"compound\"])\n",
    "\n",
    "for i in tqdm(df['review']):\n",
    "    update(sent.polarity_scores(i))\n",
    "\n",
    "df[\"negative\"] = neg\n",
    "df[\"neutral\"] = neu \n",
    "df[\"positive\"] = pos  \n",
    "df[\"compound\"] = com"
   ]
  },
  {
   "cell_type": "code",
   "execution_count": 19,
   "id": "249fbfed",
   "metadata": {},
   "outputs": [
    {
     "data": {
      "text/html": [
       "<div>\n",
       "<style scoped>\n",
       "    .dataframe tbody tr th:only-of-type {\n",
       "        vertical-align: middle;\n",
       "    }\n",
       "\n",
       "    .dataframe tbody tr th {\n",
       "        vertical-align: top;\n",
       "    }\n",
       "\n",
       "    .dataframe thead th {\n",
       "        text-align: right;\n",
       "    }\n",
       "</style>\n",
       "<table border=\"1\" class=\"dataframe\">\n",
       "  <thead>\n",
       "    <tr style=\"text-align: right;\">\n",
       "      <th></th>\n",
       "      <th>review</th>\n",
       "      <th>rating</th>\n",
       "      <th>negative</th>\n",
       "      <th>neutral</th>\n",
       "      <th>positive</th>\n",
       "      <th>compound</th>\n",
       "    </tr>\n",
       "  </thead>\n",
       "  <tbody>\n",
       "    <tr>\n",
       "      <th>0</th>\n",
       "      <td>It was nice produt. I like it's design a lot. ...</td>\n",
       "      <td>5</td>\n",
       "      <td>0.0</td>\n",
       "      <td>0.613</td>\n",
       "      <td>0.387</td>\n",
       "      <td>0.8020</td>\n",
       "    </tr>\n",
       "    <tr>\n",
       "      <th>1</th>\n",
       "      <td>awesome sound....very pretty to see this nd th...</td>\n",
       "      <td>5</td>\n",
       "      <td>0.0</td>\n",
       "      <td>0.517</td>\n",
       "      <td>0.483</td>\n",
       "      <td>0.9501</td>\n",
       "    </tr>\n",
       "    <tr>\n",
       "      <th>2</th>\n",
       "      <td>awesome sound quality. pros 7-8 hrs of battery...</td>\n",
       "      <td>4</td>\n",
       "      <td>0.0</td>\n",
       "      <td>0.823</td>\n",
       "      <td>0.177</td>\n",
       "      <td>0.9310</td>\n",
       "    </tr>\n",
       "    <tr>\n",
       "      <th>3</th>\n",
       "      <td>I think it is such a good product not only as ...</td>\n",
       "      <td>5</td>\n",
       "      <td>0.0</td>\n",
       "      <td>0.672</td>\n",
       "      <td>0.328</td>\n",
       "      <td>0.9851</td>\n",
       "    </tr>\n",
       "    <tr>\n",
       "      <th>4</th>\n",
       "      <td>awesome bass sound quality very good bettary l...</td>\n",
       "      <td>5</td>\n",
       "      <td>0.0</td>\n",
       "      <td>0.595</td>\n",
       "      <td>0.405</td>\n",
       "      <td>0.9053</td>\n",
       "    </tr>\n",
       "  </tbody>\n",
       "</table>\n",
       "</div>"
      ],
      "text/plain": [
       "                                              review  rating  negative  \\\n",
       "0  It was nice produt. I like it's design a lot. ...       5       0.0   \n",
       "1  awesome sound....very pretty to see this nd th...       5       0.0   \n",
       "2  awesome sound quality. pros 7-8 hrs of battery...       4       0.0   \n",
       "3  I think it is such a good product not only as ...       5       0.0   \n",
       "4  awesome bass sound quality very good bettary l...       5       0.0   \n",
       "\n",
       "   neutral  positive  compound  \n",
       "0    0.613     0.387    0.8020  \n",
       "1    0.517     0.483    0.9501  \n",
       "2    0.823     0.177    0.9310  \n",
       "3    0.672     0.328    0.9851  \n",
       "4    0.595     0.405    0.9053  "
      ]
     },
     "execution_count": 19,
     "metadata": {},
     "output_type": "execute_result"
    }
   ],
   "source": [
    "df.head()"
   ]
  },
  {
   "cell_type": "code",
   "execution_count": 20,
   "id": "b7bc79d7",
   "metadata": {},
   "outputs": [],
   "source": [
    "# assigning 1 to the ratings >=4 rest 0\n",
    "pos_neg = []\n",
    "for i in range(len(df['rating'])):\n",
    "    if df['rating'][i] >= 4:\n",
    "        pos_neg.append(1)\n",
    "    else:\n",
    "        pos_neg.append(0)"
   ]
  },
  {
   "cell_type": "code",
   "execution_count": 21,
   "id": "f5ced630",
   "metadata": {},
   "outputs": [],
   "source": [
    "df['class label'] = pos_neg"
   ]
  },
  {
   "cell_type": "code",
   "execution_count": 22,
   "id": "46dabbf3",
   "metadata": {},
   "outputs": [
    {
     "data": {
      "text/html": [
       "<div>\n",
       "<style scoped>\n",
       "    .dataframe tbody tr th:only-of-type {\n",
       "        vertical-align: middle;\n",
       "    }\n",
       "\n",
       "    .dataframe tbody tr th {\n",
       "        vertical-align: top;\n",
       "    }\n",
       "\n",
       "    .dataframe thead th {\n",
       "        text-align: right;\n",
       "    }\n",
       "</style>\n",
       "<table border=\"1\" class=\"dataframe\">\n",
       "  <thead>\n",
       "    <tr style=\"text-align: right;\">\n",
       "      <th></th>\n",
       "      <th>review</th>\n",
       "      <th>rating</th>\n",
       "      <th>negative</th>\n",
       "      <th>neutral</th>\n",
       "      <th>positive</th>\n",
       "      <th>compound</th>\n",
       "      <th>class label</th>\n",
       "    </tr>\n",
       "  </thead>\n",
       "  <tbody>\n",
       "    <tr>\n",
       "      <th>0</th>\n",
       "      <td>It was nice produt. I like it's design a lot. ...</td>\n",
       "      <td>5</td>\n",
       "      <td>0.0</td>\n",
       "      <td>0.613</td>\n",
       "      <td>0.387</td>\n",
       "      <td>0.8020</td>\n",
       "      <td>1</td>\n",
       "    </tr>\n",
       "    <tr>\n",
       "      <th>1</th>\n",
       "      <td>awesome sound....very pretty to see this nd th...</td>\n",
       "      <td>5</td>\n",
       "      <td>0.0</td>\n",
       "      <td>0.517</td>\n",
       "      <td>0.483</td>\n",
       "      <td>0.9501</td>\n",
       "      <td>1</td>\n",
       "    </tr>\n",
       "    <tr>\n",
       "      <th>2</th>\n",
       "      <td>awesome sound quality. pros 7-8 hrs of battery...</td>\n",
       "      <td>4</td>\n",
       "      <td>0.0</td>\n",
       "      <td>0.823</td>\n",
       "      <td>0.177</td>\n",
       "      <td>0.9310</td>\n",
       "      <td>1</td>\n",
       "    </tr>\n",
       "    <tr>\n",
       "      <th>3</th>\n",
       "      <td>I think it is such a good product not only as ...</td>\n",
       "      <td>5</td>\n",
       "      <td>0.0</td>\n",
       "      <td>0.672</td>\n",
       "      <td>0.328</td>\n",
       "      <td>0.9851</td>\n",
       "      <td>1</td>\n",
       "    </tr>\n",
       "    <tr>\n",
       "      <th>4</th>\n",
       "      <td>awesome bass sound quality very good bettary l...</td>\n",
       "      <td>5</td>\n",
       "      <td>0.0</td>\n",
       "      <td>0.595</td>\n",
       "      <td>0.405</td>\n",
       "      <td>0.9053</td>\n",
       "      <td>1</td>\n",
       "    </tr>\n",
       "  </tbody>\n",
       "</table>\n",
       "</div>"
      ],
      "text/plain": [
       "                                              review  rating  negative  \\\n",
       "0  It was nice produt. I like it's design a lot. ...       5       0.0   \n",
       "1  awesome sound....very pretty to see this nd th...       5       0.0   \n",
       "2  awesome sound quality. pros 7-8 hrs of battery...       4       0.0   \n",
       "3  I think it is such a good product not only as ...       5       0.0   \n",
       "4  awesome bass sound quality very good bettary l...       5       0.0   \n",
       "\n",
       "   neutral  positive  compound  class label  \n",
       "0    0.613     0.387    0.8020            1  \n",
       "1    0.517     0.483    0.9501            1  \n",
       "2    0.823     0.177    0.9310            1  \n",
       "3    0.672     0.328    0.9851            1  \n",
       "4    0.595     0.405    0.9053            1  "
      ]
     },
     "execution_count": 22,
     "metadata": {},
     "output_type": "execute_result"
    }
   ],
   "source": [
    "df.head()"
   ]
  },
  {
   "cell_type": "code",
   "execution_count": 23,
   "id": "533faaf2",
   "metadata": {},
   "outputs": [
    {
     "data": {
      "text/plain": [
       "0.991"
      ]
     },
     "execution_count": 23,
     "metadata": {},
     "output_type": "execute_result"
    }
   ],
   "source": [
    "# taking max of compound sentiment\n",
    "df['compound'].max()"
   ]
  },
  {
   "cell_type": "code",
   "execution_count": 24,
   "id": "ec3023bd",
   "metadata": {},
   "outputs": [
    {
     "data": {
      "text/plain": [
       "-0.9587"
      ]
     },
     "execution_count": 24,
     "metadata": {},
     "output_type": "execute_result"
    }
   ],
   "source": [
    "# taking min of compound sentiment\n",
    "df['compound'].min()"
   ]
  },
  {
   "cell_type": "code",
   "execution_count": 25,
   "id": "6c0fee83",
   "metadata": {},
   "outputs": [
    {
     "name": "stdout",
     "output_type": "stream",
     "text": [
      "1\n"
     ]
    }
   ],
   "source": [
    "# only one compount sentiment is equal to min value of sentiment\n",
    "c=0\n",
    "for i in range(len(df['compound'])):\n",
    "    if df['compound'][i] == df['compound'].min():\n",
    "        c+=1\n",
    "print(c)"
   ]
  },
  {
   "cell_type": "code",
   "execution_count": 26,
   "id": "bbd7dda0",
   "metadata": {},
   "outputs": [
    {
     "name": "stdout",
     "output_type": "stream",
     "text": [
      "6737\n"
     ]
    }
   ],
   "source": [
    "# compound sentiment <= 0.8 and >= 0.0\n",
    "c=0\n",
    "for i in range(len(df['compound'])):\n",
    "    if df['compound'][i] <= 0.8 and df['compound'][i] >= 0.0:\n",
    "        c+=1\n",
    "print(c)"
   ]
  },
  {
   "cell_type": "code",
   "execution_count": 27,
   "id": "a2bfa340",
   "metadata": {},
   "outputs": [
    {
     "name": "stdout",
     "output_type": "stream",
     "text": [
      "67.53207698476344\n"
     ]
    }
   ],
   "source": [
    "# 67.5% compound sentiment lies in between 0.0 and 0.8\n",
    "total_len = len(df['compound'])\n",
    "perc = (c/total_len)*100\n",
    "print(perc)"
   ]
  },
  {
   "cell_type": "code",
   "execution_count": 28,
   "id": "6a1fade0",
   "metadata": {},
   "outputs": [
    {
     "name": "stdout",
     "output_type": "stream",
     "text": [
      "8091\n"
     ]
    }
   ],
   "source": [
    "# where class label == 1\n",
    "c=0\n",
    "for i in range(len(df['class label'])):\n",
    "    if df['class label'][i] == 1:\n",
    "        c+=1\n",
    "print(c)"
   ]
  },
  {
   "cell_type": "code",
   "execution_count": 29,
   "id": "3816e9ef",
   "metadata": {},
   "outputs": [
    {
     "name": "stdout",
     "output_type": "stream",
     "text": [
      "81.1046511627907\n"
     ]
    }
   ],
   "source": [
    "# total % of class label == 1\n",
    "total_len = len(df['class label'])\n",
    "perc = (c/total_len)*100\n",
    "print(perc)"
   ]
  },
  {
   "cell_type": "markdown",
   "id": "325f2234",
   "metadata": {},
   "source": [
    "81.1% data is positive imbalance dataset"
   ]
  },
  {
   "cell_type": "code",
   "execution_count": 30,
   "id": "228e1f8d",
   "metadata": {},
   "outputs": [
    {
     "name": "stdout",
     "output_type": "stream",
     "text": [
      "1    8091\n",
      "0    1885\n",
      "Name: class label, dtype: int64\n"
     ]
    },
    {
     "data": {
      "text/plain": [
       "<AxesSubplot:ylabel='Type'>"
      ]
     },
     "execution_count": 30,
     "metadata": {},
     "output_type": "execute_result"
    },
    {
     "data": {
      "image/png": "[encoded data removed]",
      "text/plain": [
       "<Figure size 432x288 with 1 Axes>"
      ]
     },
     "metadata": {},
     "output_type": "display_data"
    }
   ],
   "source": [
    "# vizuals of class label\n",
    "print(df[\"class label\"].value_counts())\n",
    "\n",
    "df.groupby('class label').size().plot(kind='pie',\n",
    "                                       y = \"class label\",\n",
    "                                       label = \"Type\",\n",
    "                                       autopct='%1.1f%%')"
   ]
  },
  {
   "cell_type": "code",
   "execution_count": 31,
   "id": "b197d218",
   "metadata": {},
   "outputs": [],
   "source": [
    "# coppy df\n",
    "final_data = df  "
   ]
  },
  {
   "cell_type": "code",
   "execution_count": 32,
   "id": "726f0653",
   "metadata": {},
   "outputs": [
    {
     "name": "stdout",
     "output_type": "stream",
     "text": [
      "(8091, 7)\n",
      "(1885, 7)\n"
     ]
    }
   ],
   "source": [
    "rating_4_and_more = final_data[final_data[\"rating\"] >= 4]\n",
    "rating_less_than_4  = final_data[final_data[\"rating\"] < 4]\n",
    "print(rating_4_and_more.shape)\n",
    "print(rating_less_than_4.shape)"
   ]
  },
  {
   "cell_type": "code",
   "execution_count": 33,
   "id": "fa02307f",
   "metadata": {},
   "outputs": [
    {
     "name": "stdout",
     "output_type": "stream",
     "text": [
      "(8091, 7)\n"
     ]
    }
   ],
   "source": [
    "#upsampling\n",
    "from sklearn.utils import resample\n",
    "rating_less_than_4_upsample = resample(rating_less_than_4,\n",
    "             replace=True,\n",
    "             n_samples=len(rating_4_and_more),\n",
    "             random_state=42)\n",
    "\n",
    "print(rating_less_than_4_upsample.shape)"
   ]
  },
  {
   "cell_type": "code",
   "execution_count": 34,
   "id": "6176bbba",
   "metadata": {},
   "outputs": [
    {
     "name": "stdout",
     "output_type": "stream",
     "text": [
      "0    8091\n",
      "1    8091\n",
      "Name: class label, dtype: int64\n"
     ]
    },
    {
     "data": {
      "text/plain": [
       "<AxesSubplot:ylabel='Type'>"
      ]
     },
     "execution_count": 34,
     "metadata": {},
     "output_type": "execute_result"
    },
    {
     "data": {
      "image/png": "[encoded data removed]",
      "text/plain": [
       "<Figure size 432x288 with 1 Axes>"
      ]
     },
     "metadata": {},
     "output_type": "display_data"
    }
   ],
   "source": [
    "# vizuals of class label after upsampling\n",
    "data_up_sampled = pd.concat([rating_less_than_4_upsample, rating_4_and_more])\n",
    "\n",
    "print(data_up_sampled[\"class label\"].value_counts())\n",
    "\n",
    "data_up_sampled.groupby('class label').size().plot(kind='pie',\n",
    "                                       y = \"class label\",\n",
    "                                       label = \"Type\",\n",
    "                                       autopct='%1.1f%%')"
   ]
  },
  {
   "cell_type": "code",
   "execution_count": 35,
   "id": "7065d5f6",
   "metadata": {},
   "outputs": [
    {
     "data": {
      "text/plain": [
       "(16182, 7)"
      ]
     },
     "execution_count": 35,
     "metadata": {},
     "output_type": "execute_result"
    }
   ],
   "source": [
    "data_up_sampled.shape"
   ]
  },
  {
   "cell_type": "markdown",
   "id": "541d733f",
   "metadata": {},
   "source": [
    "<b> Vectorizing text data"
   ]
  },
  {
   "cell_type": "code",
   "execution_count": 36,
   "id": "a42a6109",
   "metadata": {},
   "outputs": [],
   "source": [
    "y = data_up_sampled['class label'].values \n",
    "X = data_up_sampled.drop(['class label'], axis=1)"
   ]
  },
  {
   "cell_type": "code",
   "execution_count": 37,
   "id": "2658d307",
   "metadata": {},
   "outputs": [],
   "source": [
    "#splitting data\n",
    "from sklearn.model_selection import train_test_split\n",
    "X_train, X_test, y_train, y_test = train_test_split(X, y, test_size=0.33, stratify=y, random_state = 42)"
   ]
  },
  {
   "cell_type": "code",
   "execution_count": 38,
   "id": "22f8f79e",
   "metadata": {},
   "outputs": [
    {
     "data": {
      "text/html": [
       "<div>\n",
       "<style scoped>\n",
       "    .dataframe tbody tr th:only-of-type {\n",
       "        vertical-align: middle;\n",
       "    }\n",
       "\n",
       "    .dataframe tbody tr th {\n",
       "        vertical-align: top;\n",
       "    }\n",
       "\n",
       "    .dataframe thead th {\n",
       "        text-align: right;\n",
       "    }\n",
       "</style>\n",
       "<table border=\"1\" class=\"dataframe\">\n",
       "  <thead>\n",
       "    <tr style=\"text-align: right;\">\n",
       "      <th></th>\n",
       "      <th>review</th>\n",
       "      <th>rating</th>\n",
       "      <th>negative</th>\n",
       "      <th>neutral</th>\n",
       "      <th>positive</th>\n",
       "      <th>compound</th>\n",
       "    </tr>\n",
       "  </thead>\n",
       "  <tbody>\n",
       "    <tr>\n",
       "      <th>80</th>\n",
       "      <td>I was really excited about the headphones at f...</td>\n",
       "      <td>1</td>\n",
       "      <td>0.211</td>\n",
       "      <td>0.667</td>\n",
       "      <td>0.122</td>\n",
       "      <td>-0.9209</td>\n",
       "    </tr>\n",
       "    <tr>\n",
       "      <th>4701</th>\n",
       "      <td>Excellent productREAD MORE</td>\n",
       "      <td>5</td>\n",
       "      <td>0.000</td>\n",
       "      <td>0.351</td>\n",
       "      <td>0.649</td>\n",
       "      <td>0.5719</td>\n",
       "    </tr>\n",
       "    <tr>\n",
       "      <th>6048</th>\n",
       "      <td>GoodREAD MORE</td>\n",
       "      <td>3</td>\n",
       "      <td>0.000</td>\n",
       "      <td>1.000</td>\n",
       "      <td>0.000</td>\n",
       "      <td>0.0000</td>\n",
       "    </tr>\n",
       "    <tr>\n",
       "      <th>1099</th>\n",
       "      <td>it's battery is very good and sound it's just ...</td>\n",
       "      <td>5</td>\n",
       "      <td>0.000</td>\n",
       "      <td>0.641</td>\n",
       "      <td>0.359</td>\n",
       "      <td>0.9391</td>\n",
       "    </tr>\n",
       "    <tr>\n",
       "      <th>3141</th>\n",
       "      <td>Good as well as the picREAD MORE</td>\n",
       "      <td>5</td>\n",
       "      <td>0.000</td>\n",
       "      <td>0.500</td>\n",
       "      <td>0.500</td>\n",
       "      <td>0.6124</td>\n",
       "    </tr>\n",
       "  </tbody>\n",
       "</table>\n",
       "</div>"
      ],
      "text/plain": [
       "                                                 review  rating  negative  \\\n",
       "80    I was really excited about the headphones at f...       1     0.211   \n",
       "4701                         Excellent productREAD MORE       5     0.000   \n",
       "6048                                      GoodREAD MORE       3     0.000   \n",
       "1099  it's battery is very good and sound it's just ...       5     0.000   \n",
       "3141                   Good as well as the picREAD MORE       5     0.000   \n",
       "\n",
       "      neutral  positive  compound  \n",
       "80      0.667     0.122   -0.9209  \n",
       "4701    0.351     0.649    0.5719  \n",
       "6048    1.000     0.000    0.0000  \n",
       "1099    0.641     0.359    0.9391  \n",
       "3141    0.500     0.500    0.6124  "
      ]
     },
     "execution_count": 38,
     "metadata": {},
     "output_type": "execute_result"
    }
   ],
   "source": [
    "X_train.head()"
   ]
  },
  {
   "cell_type": "markdown",
   "id": "336120ef",
   "metadata": {},
   "source": [
    "<b> Preparing data for modeling"
   ]
  },
  {
   "cell_type": "code",
   "execution_count": 39,
   "id": "13af5405",
   "metadata": {},
   "outputs": [
    {
     "name": "stdout",
     "output_type": "stream",
     "text": [
      "(10841, 6) (10841,)\n",
      "(5341, 6) (5341,)\n",
      "====================================================================================================\n",
      "After vectorizations\n",
      "(10841, 6087) (10841,)\n",
      "(5341, 6087) (5341,)\n"
     ]
    }
   ],
   "source": [
    "#tfidf vectorizer\n",
    "from sklearn.feature_extraction.text import TfidfVectorizer\n",
    "print(X_train.shape, y_train.shape)\n",
    "print(X_test.shape, y_test.shape)\n",
    "\n",
    "print(\"=\"*100)\n",
    "\n",
    "vectorizer_tfidf = TfidfVectorizer(min_df=10,ngram_range=(1,4), max_features=100000)\n",
    "vectorizer_tfidf.fit(X_train['review'].values)\n",
    "\n",
    "X_train_review_tfidf = vectorizer_tfidf.transform(X_train['review'].values)\n",
    "X_test_review_tfidf = vectorizer_tfidf.transform(X_test['review'].values)\n",
    "\n",
    "print(\"After vectorizations\")\n",
    "print(X_train_review_tfidf.shape, y_train.shape)\n",
    "print(X_test_review_tfidf.shape, y_test.shape)"
   ]
  },
  {
   "cell_type": "code",
   "execution_count": 40,
   "id": "a9dc8743",
   "metadata": {},
   "outputs": [
    {
     "name": "stdout",
     "output_type": "stream",
     "text": [
      "After vectorizations\n",
      "(10841, 1) (10841,)\n",
      "(5341, 1) (5341,)\n"
     ]
    }
   ],
   "source": [
    "#normalizing\n",
    "from sklearn.preprocessing import Normalizer\n",
    "\n",
    "normalizer = Normalizer()\n",
    "\n",
    "normalizer.fit(X_train['rating'].values.reshape(-1,1))\n",
    "\n",
    "X_train_rating_norm = normalizer.transform(X_train['rating'].values.reshape(-1,1))\n",
    "X_test_rating_norm = normalizer.transform(X_test['rating'].values.reshape(-1,1))\n",
    "\n",
    "\n",
    "\n",
    "print(\"After vectorizations\")\n",
    "print(X_train_rating_norm.shape, y_train.shape)\n",
    "print(X_test_rating_norm.shape, y_test.shape)"
   ]
  },
  {
   "cell_type": "code",
   "execution_count": 41,
   "id": "bee0711c",
   "metadata": {},
   "outputs": [
    {
     "name": "stdout",
     "output_type": "stream",
     "text": [
      "After vectorizations\n",
      "(10841, 1) (10841,)\n",
      "(5341, 1) (5341,)\n"
     ]
    }
   ],
   "source": [
    "normalizer.fit(X_train['negative'].values.reshape(-1,1))\n",
    "\n",
    "X_train_neg_norm = normalizer.transform(X_train['negative'].values.reshape(-1,1))\n",
    "X_test_neg_norm = normalizer.transform(X_test['negative'].values.reshape(-1,1))\n",
    "\n",
    "\n",
    "\n",
    "print(\"After vectorizations\")\n",
    "print(X_train_neg_norm.shape, y_train.shape)\n",
    "print(X_test_neg_norm.shape, y_test.shape)"
   ]
  },
  {
   "cell_type": "code",
   "execution_count": 42,
   "id": "fbaa2943",
   "metadata": {},
   "outputs": [
    {
     "name": "stdout",
     "output_type": "stream",
     "text": [
      "After vectorizations\n",
      "(10841, 1) (10841,)\n",
      "(5341, 1) (5341,)\n"
     ]
    }
   ],
   "source": [
    "normalizer.fit(X_train['neutral'].values.reshape(-1,1))\n",
    "\n",
    "X_train_neu_norm = normalizer.transform(X_train['neutral'].values.reshape(-1,1))\n",
    "X_test_neu_norm = normalizer.transform(X_test['neutral'].values.reshape(-1,1))\n",
    "\n",
    "\n",
    "\n",
    "print(\"After vectorizations\")\n",
    "print(X_train_neu_norm.shape, y_train.shape)\n",
    "print(X_test_neu_norm.shape, y_test.shape)"
   ]
  },
  {
   "cell_type": "code",
   "execution_count": 43,
   "id": "c97e45c3",
   "metadata": {},
   "outputs": [
    {
     "name": "stdout",
     "output_type": "stream",
     "text": [
      "After vectorizations\n",
      "(10841, 1) (10841,)\n",
      "(5341, 1) (5341,)\n"
     ]
    }
   ],
   "source": [
    "normalizer.fit(X_train['positive'].values.reshape(-1,1))\n",
    "\n",
    "X_train_pos_norm = normalizer.transform(X_train['positive'].values.reshape(-1,1))\n",
    "X_test_pos_norm = normalizer.transform(X_test['positive'].values.reshape(-1,1))\n",
    "\n",
    "\n",
    "\n",
    "print(\"After vectorizations\")\n",
    "print(X_train_pos_norm.shape, y_train.shape)\n",
    "print(X_test_pos_norm.shape, y_test.shape)"
   ]
  },
  {
   "cell_type": "code",
   "execution_count": 44,
   "id": "216eac70",
   "metadata": {},
   "outputs": [
    {
     "name": "stdout",
     "output_type": "stream",
     "text": [
      "After vectorizations\n",
      "(10841, 1) (10841,)\n",
      "(5341, 1) (5341,)\n"
     ]
    }
   ],
   "source": [
    "normalizer.fit(X_train['compound'].values.reshape(-1,1))\n",
    "\n",
    "X_train_comp_norm = normalizer.transform(X_train['compound'].values.reshape(-1,1))\n",
    "X_test_comp_norm = normalizer.transform(X_test['compound'].values.reshape(-1,1))\n",
    "\n",
    "\n",
    "\n",
    "print(\"After vectorizations\")\n",
    "print(X_train_comp_norm.shape, y_train.shape)\n",
    "print(X_test_comp_norm.shape, y_test.shape)"
   ]
  },
  {
   "cell_type": "code",
   "execution_count": 45,
   "id": "e9f6afea",
   "metadata": {},
   "outputs": [
    {
     "name": "stdout",
     "output_type": "stream",
     "text": [
      "Final Data matrix\n",
      "(10841, 6092) (10841,)\n",
      "(5341, 6092) (5341,)\n"
     ]
    }
   ],
   "source": [
    "# stacking data creating final data to feed the model\n",
    "from scipy.sparse import hstack\n",
    "X_tr1 = hstack((X_train_review_tfidf, X_train_rating_norm, X_train_neg_norm, X_train_neu_norm, \n",
    "                X_train_pos_norm, X_train_comp_norm)).tocsr()\n",
    "X_te1 = hstack((X_test_review_tfidf, X_test_rating_norm, X_test_neg_norm, X_test_neu_norm, \n",
    "               X_test_pos_norm, X_test_comp_norm)).tocsr()\n",
    "\n",
    "print(\"Final Data matrix\")\n",
    "print(X_tr1.shape, y_train.shape)\n",
    "print(X_te1.shape, y_test.shape)"
   ]
  },
  {
   "cell_type": "markdown",
   "id": "05fe7a67",
   "metadata": {},
   "source": [
    "<b> Hyperparameter tuning and modeling"
   ]
  },
  {
   "cell_type": "code",
   "execution_count": 46,
   "id": "e19933a0",
   "metadata": {},
   "outputs": [
    {
     "data": {
      "text/plain": [
       "GridSearchCV(cv=5, estimator=GradientBoostingClassifier(), n_jobs=-1,\n",
       "             param_grid={'max_depth': [1, 2, 3, 4],\n",
       "                         'n_estimators': [5, 10, 15, 20]},\n",
       "             return_train_score=True, scoring='roc_auc')"
      ]
     },
     "execution_count": 46,
     "metadata": {},
     "output_type": "execute_result"
    }
   ],
   "source": [
    "#gbdt\n",
    "from sklearn.ensemble import GradientBoostingClassifier\n",
    "from sklearn.model_selection import GridSearchCV\n",
    "\n",
    "params = {'max_depth': [1,2,3,4], 'n_estimators': [5, 10, 15, 20]}\n",
    "gbdt_tfidf = GradientBoostingClassifier(learning_rate=0.1) \n",
    "gbdtclf_set_1 = GridSearchCV(gbdt_tfidf, params, cv=5, scoring='roc_auc', return_train_score=True, n_jobs=-1)\n",
    "gbdtclf_set_1.fit(X_tr1,y_train)"
   ]
  },
  {
   "cell_type": "code",
   "execution_count": 47,
   "id": "0ed0833a",
   "metadata": {},
   "outputs": [
    {
     "name": "stdout",
     "output_type": "stream",
     "text": [
      "Best score:  0.8861473611031194\n",
      "alpha value with best score:  {'max_depth': 4, 'n_estimators': 20}\n"
     ]
    }
   ],
   "source": [
    "print('Best score: ',gbdtclf_set_1.best_score_)\n",
    "print('alpha value with best score: ',gbdtclf_set_1.best_params_)"
   ]
  },
  {
   "cell_type": "code",
   "execution_count": 48,
   "id": "244e50d4",
   "metadata": {},
   "outputs": [
    {
     "data": {
      "image/png": "[encoded data removed]",
      "text/plain": [
       "<Figure size 1440x432 with 4 Axes>"
      ]
     },
     "metadata": {
      "needs_background": "light"
     },
     "output_type": "display_data"
    }
   ],
   "source": [
    "#ploting heat map for best hyperparameter\n",
    "import matplotlib.pyplot as plt\n",
    "import seaborn as sns\n",
    "results = pd.DataFrame.from_dict(gbdtclf_set_1.cv_results_)\n",
    "max_score_set_1 = results.groupby(['param_n_estimators', 'param_max_depth']).max()\n",
    "max_score_set_1 = max_score_set_1.unstack()[['mean_test_score', 'mean_train_score']]\n",
    "#sns.heatmap(max_scores.mean_test_score, annot=True, fmt='.4g');\n",
    "fig, ax = plt.subplots(1,2, figsize=(20,6))\n",
    "sns.heatmap(max_score_set_1.mean_train_score, annot = True, fmt='.4g', ax=ax[0],annot_kws={\"size\": 20}, cmap = \"BuPu\")\n",
    "sns.heatmap(max_score_set_1.mean_test_score, annot = True, fmt='.4g', ax=ax[1],annot_kws={\"size\": 20},cmap=\"YlGnBu\")\n",
    "ax[0].set_title('Train Set')\n",
    "ax[1].set_title('CV Set')\n",
    "plt.show() "
   ]
  },
  {
   "cell_type": "code",
   "execution_count": 49,
   "id": "b8df6627",
   "metadata": {},
   "outputs": [
    {
     "data": {
      "text/plain": [
       "GradientBoostingClassifier(max_depth=4, n_estimators=20)"
      ]
     },
     "execution_count": 49,
     "metadata": {},
     "output_type": "execute_result"
    }
   ],
   "source": [
    "#gbdt with best params\n",
    "gbdt_tfidf_best = GradientBoostingClassifier(learning_rate=0.1,max_depth=4,n_estimators=20) \n",
    "gbdt_tfidf_best.fit(X_tr1,y_train)"
   ]
  },
  {
   "cell_type": "code",
   "execution_count": 50,
   "id": "5baa0237",
   "metadata": {},
   "outputs": [],
   "source": [
    "from sklearn.metrics import roc_curve, auc\n",
    "from sklearn import metrics"
   ]
  },
  {
   "cell_type": "code",
   "execution_count": 51,
   "id": "6012e86c",
   "metadata": {},
   "outputs": [
    {
     "data": {
      "image/png": "[encoded data removed]",
      "text/plain": [
       "<Figure size 576x432 with 1 Axes>"
      ]
     },
     "metadata": {
      "needs_background": "light"
     },
     "output_type": "display_data"
    }
   ],
   "source": [
    "#Auc curve\n",
    "y_train_probs_tfidf_set1 = gbdt_tfidf_best.predict_proba(X_tr1)[:,1] # converting train and test output into probability\n",
    "y_test_probs_tfidf_set1 = gbdt_tfidf_best.predict_proba(X_te1 )[:,1]\n",
    "\n",
    "train_fpr_tfidf_set1, train_tpr_tfidf_set1, tr_thresholds_tfidf_set1 = roc_curve(y_train, y_train_probs_tfidf_set1) # storing values of fpr and tpr\n",
    "test_fpr_tfidf_set1, test_tpr_tfidf_set1, te_thresholds_tfidf_set1 = roc_curve(y_test, y_test_probs_tfidf_set1)\n",
    "\n",
    "plt.figure(figsize=(8,6))\n",
    "plt.plot(train_fpr_tfidf_set1, train_tpr_tfidf_set1, label=\"Train AUC =\"+str(auc(train_fpr_tfidf_set1, train_tpr_tfidf_set1)))\n",
    "plt.plot(test_fpr_tfidf_set1, test_tpr_tfidf_set1, label=\"Test AUC =\"+str(auc(test_fpr_tfidf_set1, test_tpr_tfidf_set1)))\n",
    "plt.legend()\n",
    "plt.xlabel(\"False Positive Rate(FPR)\")\n",
    "plt.ylabel(\"True Positive Rate(TPR)\")\n",
    "plt.title(\"AUC\")\n",
    "plt.grid(color='black',lw=0.5)"
   ]
  },
  {
   "cell_type": "code",
   "execution_count": 52,
   "id": "e0aca3a1",
   "metadata": {},
   "outputs": [],
   "source": [
    "def find_best_threshold(threshould, fpr, tpr):\n",
    "    t = threshould[np.argmax(tpr*(1-fpr))]\n",
    "    # (tpr*(1-fpr)) will be maximum if your fpr is very low and tpr is very high\n",
    "    print(\"the maximum value of tpr*(1-fpr)\", max(tpr*(1-fpr)), \"for threshold\", np.round(t,3))\n",
    "    return t\n",
    "\n",
    "def predict_with_best_t(proba, threshould):\n",
    "    predictions = []\n",
    "    for i in proba:\n",
    "        if i>=threshould:\n",
    "            predictions.append(1)\n",
    "        else:\n",
    "            predictions.append(0)\n",
    "    return predictions"
   ]
  },
  {
   "cell_type": "code",
   "execution_count": 53,
   "id": "4131975d",
   "metadata": {},
   "outputs": [
    {
     "name": "stdout",
     "output_type": "stream",
     "text": [
      "the maximum value of tpr*(1-fpr) 0.6804226559144396 for threshold 0.563\n"
     ]
    }
   ],
   "source": [
    "best_t_tfidf_set1_train = find_best_threshold(tr_thresholds_tfidf_set1, train_fpr_tfidf_set1, train_tpr_tfidf_set1)\n",
    "cm=metrics.confusion_matrix(y_train,predict_with_best_t(y_train_probs_tfidf_set1, best_t_tfidf_set1_train))"
   ]
  },
  {
   "cell_type": "code",
   "execution_count": 54,
   "id": "6c11d257",
   "metadata": {},
   "outputs": [
    {
     "name": "stdout",
     "output_type": "stream",
     "text": [
      "the maximum value of tpr*(1-fpr) 0.6662736255831465 for threshold 0.549\n"
     ]
    }
   ],
   "source": [
    "best_t_tfidf_set1_test = find_best_threshold(te_thresholds_tfidf_set1, test_fpr_tfidf_set1, test_tpr_tfidf_set1)\n",
    "cm1=metrics.confusion_matrix(y_test,predict_with_best_t(y_test_probs_tfidf_set1, best_t_tfidf_set1_test))"
   ]
  },
  {
   "cell_type": "code",
   "execution_count": 55,
   "id": "b76ee139",
   "metadata": {},
   "outputs": [
    {
     "data": {
      "image/png": "[encoded data removed]",
      "text/plain": [
       "<Figure size 1440x432 with 4 Axes>"
      ]
     },
     "metadata": {
      "needs_background": "light"
     },
     "output_type": "display_data"
    }
   ],
   "source": [
    "#ploting confusion matrix\n",
    "fig, ax = plt.subplots(1,2, figsize=(20,6))\n",
    "sns.heatmap(cm, annot = True, fmt='d', ax=ax[0],annot_kws={\"size\": 26}, cmap = \"BuPu\")\n",
    "sns.heatmap(cm1, annot = True, fmt='d', ax=ax[1],annot_kws={\"size\": 26},cmap=\"YlGnBu\")\n",
    "ax[0].set_title('Train Data',fontsize = 20)\n",
    "ax[1].set_title('Test Data',fontsize = 20)\n",
    "ax[0].set_xlabel(\"Actual\", fontsize = 20)\n",
    "ax[0].set_ylabel(\"Predicted\", fontsize = 20)\n",
    "ax[1].set_xlabel(\"Actual\", fontsize = 20)\n",
    "ax[1].set_ylabel(\"Predicted\", fontsize = 20)\n",
    "plt.show() "
   ]
  },
  {
   "cell_type": "code",
   "execution_count": 56,
   "id": "031b1f4d",
   "metadata": {},
   "outputs": [
    {
     "data": {
      "text/plain": [
       "(5341, 6092)"
      ]
     },
     "execution_count": 56,
     "metadata": {},
     "output_type": "execute_result"
    }
   ],
   "source": [
    "y_test.shape\n",
    "X_te1.shape"
   ]
  },
  {
   "cell_type": "markdown",
   "id": "05384923",
   "metadata": {},
   "source": [
    "### Predictions"
   ]
  },
  {
   "cell_type": "code",
   "execution_count": 57,
   "id": "90e43d0f",
   "metadata": {},
   "outputs": [
    {
     "data": {
      "text/plain": [
       "1"
      ]
     },
     "execution_count": 57,
     "metadata": {},
     "output_type": "execute_result"
    }
   ],
   "source": [
    "y_test[5320]"
   ]
  },
  {
   "cell_type": "code",
   "execution_count": 58,
   "id": "2716e5ea",
   "metadata": {},
   "outputs": [
    {
     "name": "stdout",
     "output_type": "stream",
     "text": [
      "[1]\n"
     ]
    }
   ],
   "source": [
    "input_data = X_te1[0]\n",
    "\n",
    "input_data_reshaped = input_data.reshape(1,-1)\n",
    "\n",
    "prediction = gbdt_tfidf_best.predict(input_data_reshaped)\n",
    "print(prediction)"
   ]
  },
  {
   "cell_type": "code",
   "execution_count": 59,
   "id": "384467a0",
   "metadata": {},
   "outputs": [
    {
     "name": "stdout",
     "output_type": "stream",
     "text": [
      "[1 1 0 ... 1 0 1]\n"
     ]
    }
   ],
   "source": [
    "p = gbdt_tfidf_best.predict(X_te1)\n",
    "print(p)"
   ]
  },
  {
   "cell_type": "code",
   "execution_count": 60,
   "id": "c4b1b0b5",
   "metadata": {},
   "outputs": [
    {
     "data": {
      "text/html": [
       "<div>\n",
       "<style scoped>\n",
       "    .dataframe tbody tr th:only-of-type {\n",
       "        vertical-align: middle;\n",
       "    }\n",
       "\n",
       "    .dataframe tbody tr th {\n",
       "        vertical-align: top;\n",
       "    }\n",
       "\n",
       "    .dataframe thead th {\n",
       "        text-align: right;\n",
       "    }\n",
       "</style>\n",
       "<table border=\"1\" class=\"dataframe\">\n",
       "  <thead>\n",
       "    <tr style=\"text-align: right;\">\n",
       "      <th></th>\n",
       "      <th>review</th>\n",
       "      <th>rating</th>\n",
       "      <th>negative</th>\n",
       "      <th>neutral</th>\n",
       "      <th>positive</th>\n",
       "      <th>compound</th>\n",
       "    </tr>\n",
       "  </thead>\n",
       "  <tbody>\n",
       "    <tr>\n",
       "      <th>2490</th>\n",
       "      <td>Nice...READ MORE</td>\n",
       "      <td>3</td>\n",
       "      <td>0.000</td>\n",
       "      <td>1.000</td>\n",
       "      <td>0.000</td>\n",
       "      <td>0.0000</td>\n",
       "    </tr>\n",
       "    <tr>\n",
       "      <th>8929</th>\n",
       "      <td>GdREAD MORE</td>\n",
       "      <td>5</td>\n",
       "      <td>0.000</td>\n",
       "      <td>1.000</td>\n",
       "      <td>0.000</td>\n",
       "      <td>0.0000</td>\n",
       "    </tr>\n",
       "    <tr>\n",
       "      <th>8669</th>\n",
       "      <td>material is very sturdy and quality of materia...</td>\n",
       "      <td>1</td>\n",
       "      <td>0.145</td>\n",
       "      <td>0.775</td>\n",
       "      <td>0.079</td>\n",
       "      <td>-0.6868</td>\n",
       "    </tr>\n",
       "    <tr>\n",
       "      <th>7578</th>\n",
       "      <td>TqREAD MORE</td>\n",
       "      <td>5</td>\n",
       "      <td>0.000</td>\n",
       "      <td>1.000</td>\n",
       "      <td>0.000</td>\n",
       "      <td>0.0000</td>\n",
       "    </tr>\n",
       "    <tr>\n",
       "      <th>9952</th>\n",
       "      <td>I can't wear it more than 10 minutes.It's too ...</td>\n",
       "      <td>1</td>\n",
       "      <td>0.000</td>\n",
       "      <td>1.000</td>\n",
       "      <td>0.000</td>\n",
       "      <td>0.0000</td>\n",
       "    </tr>\n",
       "  </tbody>\n",
       "</table>\n",
       "</div>"
      ],
      "text/plain": [
       "                                                 review  rating  negative  \\\n",
       "2490                                   Nice...READ MORE       3     0.000   \n",
       "8929                                        GdREAD MORE       5     0.000   \n",
       "8669  material is very sturdy and quality of materia...       1     0.145   \n",
       "7578                                        TqREAD MORE       5     0.000   \n",
       "9952  I can't wear it more than 10 minutes.It's too ...       1     0.000   \n",
       "\n",
       "      neutral  positive  compound  \n",
       "2490    1.000     0.000    0.0000  \n",
       "8929    1.000     0.000    0.0000  \n",
       "8669    0.775     0.079   -0.6868  \n",
       "7578    1.000     0.000    0.0000  \n",
       "9952    1.000     0.000    0.0000  "
      ]
     },
     "execution_count": 60,
     "metadata": {},
     "output_type": "execute_result"
    }
   ],
   "source": [
    "X_test.head()"
   ]
  },
  {
   "cell_type": "code",
   "execution_count": 61,
   "id": "2eeb9a8f",
   "metadata": {},
   "outputs": [],
   "source": [
    "submission = pd.DataFrame({'review': X_test.review,'rating':X_test.rating,'negative':X_test.negative,\n",
    "                           'neutral':X_test.neutral,'positive':X_test.positive,\n",
    "                           'compound':X_test.compound,'predicted class label': p, 'actual class label': y_test})\n",
    "# you could use any filename. We choose submission here\n",
    "submission.to_csv('submission.csv', index=False)"
   ]
  },
  {
   "cell_type": "code",
   "execution_count": 62,
   "id": "e30edef9",
   "metadata": {},
   "outputs": [
    {
     "data": {
      "text/html": [
       "<div>\n",
       "<style scoped>\n",
       "    .dataframe tbody tr th:only-of-type {\n",
       "        vertical-align: middle;\n",
       "    }\n",
       "\n",
       "    .dataframe tbody tr th {\n",
       "        vertical-align: top;\n",
       "    }\n",
       "\n",
       "    .dataframe thead th {\n",
       "        text-align: right;\n",
       "    }\n",
       "</style>\n",
       "<table border=\"1\" class=\"dataframe\">\n",
       "  <thead>\n",
       "    <tr style=\"text-align: right;\">\n",
       "      <th></th>\n",
       "      <th>review</th>\n",
       "      <th>rating</th>\n",
       "      <th>negative</th>\n",
       "      <th>neutral</th>\n",
       "      <th>positive</th>\n",
       "      <th>compound</th>\n",
       "      <th>predicted class label</th>\n",
       "      <th>actual class label</th>\n",
       "    </tr>\n",
       "  </thead>\n",
       "  <tbody>\n",
       "    <tr>\n",
       "      <th>0</th>\n",
       "      <td>Nice...READ MORE</td>\n",
       "      <td>3</td>\n",
       "      <td>0.000</td>\n",
       "      <td>1.000</td>\n",
       "      <td>0.000</td>\n",
       "      <td>0.0000</td>\n",
       "      <td>1</td>\n",
       "      <td>0</td>\n",
       "    </tr>\n",
       "    <tr>\n",
       "      <th>1</th>\n",
       "      <td>GdREAD MORE</td>\n",
       "      <td>5</td>\n",
       "      <td>0.000</td>\n",
       "      <td>1.000</td>\n",
       "      <td>0.000</td>\n",
       "      <td>0.0000</td>\n",
       "      <td>1</td>\n",
       "      <td>1</td>\n",
       "    </tr>\n",
       "    <tr>\n",
       "      <th>2</th>\n",
       "      <td>material is very sturdy and quality of materia...</td>\n",
       "      <td>1</td>\n",
       "      <td>0.145</td>\n",
       "      <td>0.775</td>\n",
       "      <td>0.079</td>\n",
       "      <td>-0.6868</td>\n",
       "      <td>0</td>\n",
       "      <td>0</td>\n",
       "    </tr>\n",
       "    <tr>\n",
       "      <th>3</th>\n",
       "      <td>TqREAD MORE</td>\n",
       "      <td>5</td>\n",
       "      <td>0.000</td>\n",
       "      <td>1.000</td>\n",
       "      <td>0.000</td>\n",
       "      <td>0.0000</td>\n",
       "      <td>1</td>\n",
       "      <td>1</td>\n",
       "    </tr>\n",
       "    <tr>\n",
       "      <th>4</th>\n",
       "      <td>I can't wear it more than 10 minutes.It's too ...</td>\n",
       "      <td>1</td>\n",
       "      <td>0.000</td>\n",
       "      <td>1.000</td>\n",
       "      <td>0.000</td>\n",
       "      <td>0.0000</td>\n",
       "      <td>0</td>\n",
       "      <td>0</td>\n",
       "    </tr>\n",
       "    <tr>\n",
       "      <th>5</th>\n",
       "      <td>Nice product to buyREAD MORE</td>\n",
       "      <td>4</td>\n",
       "      <td>0.000</td>\n",
       "      <td>0.588</td>\n",
       "      <td>0.412</td>\n",
       "      <td>0.4215</td>\n",
       "      <td>1</td>\n",
       "      <td>1</td>\n",
       "    </tr>\n",
       "    <tr>\n",
       "      <th>6</th>\n",
       "      <td>Sound and look is good but its fitment over th...</td>\n",
       "      <td>3</td>\n",
       "      <td>0.079</td>\n",
       "      <td>0.759</td>\n",
       "      <td>0.162</td>\n",
       "      <td>0.3992</td>\n",
       "      <td>0</td>\n",
       "      <td>0</td>\n",
       "    </tr>\n",
       "    <tr>\n",
       "      <th>7</th>\n",
       "      <td>I buy this headphone on September but it's not...</td>\n",
       "      <td>2</td>\n",
       "      <td>0.000</td>\n",
       "      <td>1.000</td>\n",
       "      <td>0.000</td>\n",
       "      <td>0.0000</td>\n",
       "      <td>0</td>\n",
       "      <td>0</td>\n",
       "    </tr>\n",
       "    <tr>\n",
       "      <th>8</th>\n",
       "      <td>Worst experience. Getting neck pain and headac...</td>\n",
       "      <td>1</td>\n",
       "      <td>0.295</td>\n",
       "      <td>0.598</td>\n",
       "      <td>0.108</td>\n",
       "      <td>-0.6908</td>\n",
       "      <td>0</td>\n",
       "      <td>0</td>\n",
       "    </tr>\n",
       "    <tr>\n",
       "      <th>9</th>\n",
       "      <td>Headphone is good .Size should be large Proble...</td>\n",
       "      <td>5</td>\n",
       "      <td>0.114</td>\n",
       "      <td>0.763</td>\n",
       "      <td>0.123</td>\n",
       "      <td>0.0516</td>\n",
       "      <td>1</td>\n",
       "      <td>1</td>\n",
       "    </tr>\n",
       "    <tr>\n",
       "      <th>10</th>\n",
       "      <td>Very bad quality my headphones stop working af...</td>\n",
       "      <td>1</td>\n",
       "      <td>0.400</td>\n",
       "      <td>0.600</td>\n",
       "      <td>0.000</td>\n",
       "      <td>-0.7178</td>\n",
       "      <td>0</td>\n",
       "      <td>0</td>\n",
       "    </tr>\n",
       "    <tr>\n",
       "      <th>11</th>\n",
       "      <td>Good productREAD MORE</td>\n",
       "      <td>5</td>\n",
       "      <td>0.000</td>\n",
       "      <td>0.408</td>\n",
       "      <td>0.592</td>\n",
       "      <td>0.4404</td>\n",
       "      <td>1</td>\n",
       "      <td>1</td>\n",
       "    </tr>\n",
       "    <tr>\n",
       "      <th>12</th>\n",
       "      <td>Headband broke in 1 yearREAD MORE</td>\n",
       "      <td>3</td>\n",
       "      <td>0.412</td>\n",
       "      <td>0.588</td>\n",
       "      <td>0.000</td>\n",
       "      <td>-0.4215</td>\n",
       "      <td>0</td>\n",
       "      <td>0</td>\n",
       "    </tr>\n",
       "    <tr>\n",
       "      <th>13</th>\n",
       "      <td>Not comfortableREAD MORE</td>\n",
       "      <td>1</td>\n",
       "      <td>0.000</td>\n",
       "      <td>1.000</td>\n",
       "      <td>0.000</td>\n",
       "      <td>0.0000</td>\n",
       "      <td>0</td>\n",
       "      <td>0</td>\n",
       "    </tr>\n",
       "    <tr>\n",
       "      <th>14</th>\n",
       "      <td>These are actually the best headphones just go...</td>\n",
       "      <td>5</td>\n",
       "      <td>0.000</td>\n",
       "      <td>0.704</td>\n",
       "      <td>0.296</td>\n",
       "      <td>0.6369</td>\n",
       "      <td>1</td>\n",
       "      <td>1</td>\n",
       "    </tr>\n",
       "  </tbody>\n",
       "</table>\n",
       "</div>"
      ],
      "text/plain": [
       "                                               review  rating  negative  \\\n",
       "0                                    Nice...READ MORE       3     0.000   \n",
       "1                                         GdREAD MORE       5     0.000   \n",
       "2   material is very sturdy and quality of materia...       1     0.145   \n",
       "3                                         TqREAD MORE       5     0.000   \n",
       "4   I can't wear it more than 10 minutes.It's too ...       1     0.000   \n",
       "5                        Nice product to buyREAD MORE       4     0.000   \n",
       "6   Sound and look is good but its fitment over th...       3     0.079   \n",
       "7   I buy this headphone on September but it's not...       2     0.000   \n",
       "8   Worst experience. Getting neck pain and headac...       1     0.295   \n",
       "9   Headphone is good .Size should be large Proble...       5     0.114   \n",
       "10  Very bad quality my headphones stop working af...       1     0.400   \n",
       "11                              Good productREAD MORE       5     0.000   \n",
       "12                  Headband broke in 1 yearREAD MORE       3     0.412   \n",
       "13                           Not comfortableREAD MORE       1     0.000   \n",
       "14  These are actually the best headphones just go...       5     0.000   \n",
       "\n",
       "    neutral  positive  compound  predicted class label  actual class label  \n",
       "0     1.000     0.000    0.0000                      1                   0  \n",
       "1     1.000     0.000    0.0000                      1                   1  \n",
       "2     0.775     0.079   -0.6868                      0                   0  \n",
       "3     1.000     0.000    0.0000                      1                   1  \n",
       "4     1.000     0.000    0.0000                      0                   0  \n",
       "5     0.588     0.412    0.4215                      1                   1  \n",
       "6     0.759     0.162    0.3992                      0                   0  \n",
       "7     1.000     0.000    0.0000                      0                   0  \n",
       "8     0.598     0.108   -0.6908                      0                   0  \n",
       "9     0.763     0.123    0.0516                      1                   1  \n",
       "10    0.600     0.000   -0.7178                      0                   0  \n",
       "11    0.408     0.592    0.4404                      1                   1  \n",
       "12    0.588     0.000   -0.4215                      0                   0  \n",
       "13    1.000     0.000    0.0000                      0                   0  \n",
       "14    0.704     0.296    0.6369                      1                   1  "
      ]
     },
     "execution_count": 62,
     "metadata": {},
     "output_type": "execute_result"
    }
   ],
   "source": [
    "D = pd.read_csv('submission.csv')\n",
    "D.head(15)"
   ]
  },
  {
   "cell_type": "markdown",
   "id": "419ec29d",
   "metadata": {},
   "source": [
    "<b> Model metrics and Characteristics in a tabular form"
   ]
  },
  {
   "cell_type": "code",
   "execution_count": 63,
   "id": "e0fa1441",
   "metadata": {},
   "outputs": [
    {
     "name": "stdout",
     "output_type": "stream",
     "text": [
      "+------------+-------+-----------+--------------+-----------+----------+\n",
      "| Vectorizer | Model | max_depth | n_estimators | Train-AUC | Test-AUC |\n",
      "+------------+-------+-----------+--------------+-----------+----------+\n",
      "|   TFIDF    |  GBDT |     4     |      20      |   0.898   |  0.892   |\n",
      "+------------+-------+-----------+--------------+-----------+----------+\n"
     ]
    }
   ],
   "source": [
    "from prettytable import PrettyTable\n",
    "table=PrettyTable()\n",
    "table.field_names = [\"Vectorizer\", \"Model\", \"max_depth\",\"n_estimators\", \"Train-AUC\", \"Test-AUC\"] \n",
    "table.add_row([\"TFIDF\", \"GBDT\", 4, 20,  0.8980, 0.8920])\n",
    "print(table)"
   ]
  },
  {
   "cell_type": "markdown",
   "id": "113fbd3a",
   "metadata": {},
   "source": [
    "### Insights\n",
    "\n",
    "- data is imbalanced 81.1% is positive so i upsampled it\n",
    "- Now positive and negative classes are equally distributed\n",
    "- We performed sentiment analysis on reviews it is usefull feature for classifying text if compound sentiment score is negative then the ratings is poor.\n",
    "- WE split the data in train and test where test size is 33% of total data\n",
    "- We performed tfidf vectorizer for categorical features encoding\n",
    "- We performed normalization for numerical features encoding\n",
    "- Then we performed gradient boosted decision tree (gbdt) on my data!\n",
    "got the best hyperparameter by performing gridsearchcv on my gbdt classifier max depth is 4 and n estimators are 20\n",
    "- We choose auc score as a metric! sometimes auc can be very high for a dumb or simple model if data is imbalanced that's why i have done upsampling and in confusion matrix where you witness in training correctly classified points in percentage is 82% and in testing classified points in percentage is 81%!\n",
    "- Model is overfitting! cuz train auc is 0.898 and test auc is 0.892"
   ]
  },
  {
   "cell_type": "markdown",
   "id": "689bd154",
   "metadata": {},
   "source": [
    "### Conclusion:\n",
    "\n",
    "- The above created model with accuracy around 89% will be able to predict ratings as positive and negative. \n",
    "- Futher, with these ratings flipkart will be able to recommend best products to its customers.\n"
   ]
  }
 ],
 "metadata": {
  "kernelspec": {
   "display_name": "Python 3",
   "language": "python",
   "name": "python3"
  },
  "language_info": {
   "codemirror_mode": {
    "name": "ipython",
    "version": 3
   },
   "file_extension": ".py",
   "mimetype": "text/x-python",
   "name": "python",
   "nbconvert_exporter": "python",
   "pygments_lexer": "ipython3",
   "version": "3.8.8"
  }
 },
 "nbformat": 4,
 "nbformat_minor": 5
}
